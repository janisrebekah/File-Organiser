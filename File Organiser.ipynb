{
 "cells": [
  {
   "cell_type": "code",
   "execution_count": 18,
   "id": "2fdf0cb2-5e20-4fa4-9b01-599dcda92eb7",
   "metadata": {},
   "outputs": [],
   "source": [
    "import os, shutil"
   ]
  },
  {
   "cell_type": "code",
   "execution_count": 19,
   "id": "50207ea1-67e4-4603-aa42-5e33ce2e682a",
   "metadata": {},
   "outputs": [],
   "source": [
    "path=r\"C:/Users/janis/OneDrive/Pictures/Documents/\""
   ]
  },
  {
   "cell_type": "code",
   "execution_count": 20,
   "id": "450803bd-4918-4cb0-9136-e50f3aab1ec3",
   "metadata": {},
   "outputs": [],
   "source": [
    "file_name=os.listdir(path)"
   ]
  },
  {
   "cell_type": "code",
   "execution_count": 21,
   "id": "8370996c-4608-432b-88b9-aa643b186b71",
   "metadata": {},
   "outputs": [
    {
     "name": "stdout",
     "output_type": "stream",
     "text": [
      "C:/Users/janis/OneDrive/Pictures/Documents/pdf files\n",
      "C:/Users/janis/OneDrive/Pictures/Documents/image files\n",
      "C:/Users/janis/OneDrive/Pictures/Documents/video files\n",
      "C:/Users/janis/OneDrive/Pictures/Documents/doc files\n"
     ]
    }
   ],
   "source": [
    "folder_names=['pdf files','image files','video files','doc files']\n",
    "for loop in range(0,4):\n",
    "    if not os.path.exists(path+folder_names[loop]):\n",
    "        print(path+folder_names[loop])\n",
    "        os.makedirs(path+folder_names[loop])"
   ]
  },
  {
   "cell_type": "code",
   "execution_count": 22,
   "id": "0099f3be-a41c-41d2-8d86-d623342955df",
   "metadata": {},
   "outputs": [],
   "source": [
    "for file in file_name:\n",
    "    if \".pdf\" in file and not os.path.exists(path+\"pdf files/\"+file):\n",
    "        shutil.move(path+file,path+\"pdf files/\"+file)\n",
    "    elif \"jpg\" in file and not os.path.exists(path+\"image files/\"+file):\n",
    "        shutil.move(path+file,path+\"image files/\"+file)\n",
    "    elif \".mp4\" in file and not os.path.exists(path+\"video files/\"+file):\n",
    "        shutil.move(path+file,path+\"video files/\"+file)\n",
    "    elif \".doc\" in file and not os.path.exists(path+\"doc files/\"+file):\n",
    "        shutil.move(path+file,path+\"doc files/\"+file)\n",
    "    \n",
    "    \n",
    "    "
   ]
  },
  {
   "cell_type": "code",
   "execution_count": null,
   "id": "a37afe3a-7f52-47c4-92cc-e88aa00fb786",
   "metadata": {},
   "outputs": [],
   "source": []
  }
 ],
 "metadata": {
  "kernelspec": {
   "display_name": "Python 3 (ipykernel)",
   "language": "python",
   "name": "python3"
  },
  "language_info": {
   "codemirror_mode": {
    "name": "ipython",
    "version": 3
   },
   "file_extension": ".py",
   "mimetype": "text/x-python",
   "name": "python",
   "nbconvert_exporter": "python",
   "pygments_lexer": "ipython3",
   "version": "3.11.5"
  }
 },
 "nbformat": 4,
 "nbformat_minor": 5
}
